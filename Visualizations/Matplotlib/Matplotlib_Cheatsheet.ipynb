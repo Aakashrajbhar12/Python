{
 "cells": [
  {
   "cell_type": "markdown",
   "id": "08f4f322",
   "metadata": {},
   "source": [
    "### Matplotlib Libary\n",
    "It is a 2D plotting libary, produces low-level visualization which includes line plots, scatter plots, bar plots,histogram etc"
   ]
  },
  {
   "cell_type": "markdown",
   "id": "5d3acbc7",
   "metadata": {},
   "source": [
    "#### Basic Steps to creating plots with matplotlib are :\n",
    "--> Prepare Data--> Create Plot-->Plot--> Customize Plot--> Save Plot--> Show Plot"
   ]
  },
  {
   "cell_type": "code",
   "execution_count": null,
   "id": "931e1c15",
   "metadata": {},
   "outputs": [],
   "source": [
    "#Installing Matplotlib libary\n",
    "\n",
    "#!pip install matplotlib     --(remove the # and run this cell)"
   ]
  },
  {
   "cell_type": "code",
   "execution_count": null,
   "id": "fbb9c551",
   "metadata": {},
   "outputs": [],
   "source": [
    "#Importing matplotlib\n",
    "import matplotlib.pyplot as plt"
   ]
  },
  {
   "cell_type": "code",
   "execution_count": null,
   "id": "388702e9",
   "metadata": {},
   "outputs": [],
   "source": [
    "#matplotlib to render plots in the notebook\n",
    "%matplotlib inline"
   ]
  },
  {
   "cell_type": "code",
   "execution_count": null,
   "id": "ccdb8622",
   "metadata": {},
   "outputs": [],
   "source": [
    "#Simple Matplotlib PLotting -- 1st-- Simple line plot"
   ]
  },
  {
   "cell_type": "code",
   "execution_count": null,
   "id": "a6b22d27",
   "metadata": {},
   "outputs": [],
   "source": [
    "#Creating data for line plot\n",
    "x = [-3, 5, 7] \n",
    "y = [10, 2, 5]"
   ]
  },
  {
   "cell_type": "code",
   "execution_count": null,
   "id": "844a5cd5",
   "metadata": {},
   "outputs": [],
   "source": [
    "#PLotting the line plot\n",
    "fig = plt.figure(figsize=(15,3))                         #Defining the plot size\n",
    "plt.plot(x,y)                                            #Plotting x & y data points\n",
    "plt.xlim(0,10)                                           #sets the x-axis limits\n",
    "plt.ylim(-3,8)                                           #sets the x-axis limits\n",
    "plt.xlabel('xaxis')                                      #sets label for x-axis\n",
    "plt.ylabel('yaxis')                                      #sets label for y-axis\n",
    "plt.title('Line plot')                                   #sets the plot title\n",
    "plt.suptitle('Sales Comparsion', size=20, y=1.03)        #sets the main title"
   ]
  },
  {
   "cell_type": "code",
   "execution_count": null,
   "id": "6fabd032",
   "metadata": {},
   "outputs": [],
   "source": [
    "#Simple Matplotlib PLot -- 2nd-- Simple Scatter plot"
   ]
  },
  {
   "cell_type": "code",
   "execution_count": null,
   "id": "a2540fb2",
   "metadata": {},
   "outputs": [],
   "source": [
    "#Creating data for Scatter plot\n",
    "a=[5,10,15]\n",
    "b=[4,8,12]"
   ]
  },
  {
   "cell_type": "code",
   "execution_count": null,
   "id": "90d84952",
   "metadata": {},
   "outputs": [],
   "source": [
    "#Plotting the Scatter Plot\n",
    "fig = plt.figure(figsize=(12,3))\n",
    "plt.scatter(a,b, color='g')\n",
    "plt.xlim(0,16)\n",
    "plt.ylim(0,12)\n",
    "plt.xlabel('xaxis')\n",
    "plt.ylabel('yaxis')\n",
    "plt.title('Scatter plot')"
   ]
  },
  {
   "cell_type": "code",
   "execution_count": null,
   "id": "6ef9ec2c",
   "metadata": {},
   "outputs": [],
   "source": [
    "#Ploting a line and a scatter plot of different data point in one plot --3rd"
   ]
  },
  {
   "cell_type": "code",
   "execution_count": null,
   "id": "7bdf85b0",
   "metadata": {},
   "outputs": [],
   "source": [
    "x = [1,2,3,4]\n",
    "y = [10,20,25,30]\n",
    "fig = plt.figure(figsize=(10,5))                    #Defining the plot size      \n",
    "plt.plot(x, y, color='lightblue', linewidth=3)      #plots the lines \n",
    "plt.scatter([2,4,6], [5,15,25], color='darkgreen')  #plots the scatter,defining data points directly\n",
    "plt.xlim(1,6.5)                                     #sets the x-axis limits\n",
    "plt.ylim(5,35)                                      #sets the y-axis limits\n",
    "plt.title('Line & Scatter Plot Separately')"
   ]
  },
  {
   "cell_type": "code",
   "execution_count": null,
   "id": "a9695355",
   "metadata": {},
   "outputs": [],
   "source": [
    "#Ploting a line and a scatter plot of same data points --4th"
   ]
  },
  {
   "cell_type": "code",
   "execution_count": null,
   "id": "eb60606e",
   "metadata": {},
   "outputs": [],
   "source": [
    "fig = plt.figure(figsize=(12,3))\n",
    "plt.plot(a,b, color='r')\n",
    "plt.scatter(a,b, color='g')\n",
    "plt.xlim(0,16)\n",
    "plt.ylim(0,12)\n",
    "plt.xlabel('xaxis')\n",
    "plt.ylabel('yaxis')\n",
    "plt.title('Line & Scatter Plot of Same Data Points')                                 "
   ]
  },
  {
   "cell_type": "code",
   "execution_count": null,
   "id": "cf2133e3",
   "metadata": {},
   "outputs": [],
   "source": [
    "#To Save the Chart in image Format\n",
    "#fig.savefig('example.png', dpi=300, bbox_inches='tight')"
   ]
  },
  {
   "cell_type": "code",
   "execution_count": null,
   "id": "f65149f0",
   "metadata": {},
   "outputs": [],
   "source": [
    "#To Plot Subplots\n",
    "fig, ax = plt.subplots(nrows=2, ncols=2)"
   ]
  },
  {
   "cell_type": "code",
   "execution_count": null,
   "id": "84c58989",
   "metadata": {},
   "outputs": [],
   "source": [
    "# More than one Axes with plt.subplots, then the second item in the tuple is a NumPy array containing all the Axes\n",
    "fig, axs = plt.subplots(2, 3)"
   ]
  },
  {
   "cell_type": "markdown",
   "id": "deea78b4",
   "metadata": {},
   "source": [
    "#### Visualization -- Matplotlib"
   ]
  },
  {
   "cell_type": "code",
   "execution_count": null,
   "id": "e4c63589",
   "metadata": {},
   "outputs": [],
   "source": [
    "import pandas as pd\n",
    "import numpy as np\n",
    "import matplotlib.pyplot as plt"
   ]
  },
  {
   "cell_type": "code",
   "execution_count": null,
   "id": "709ae694",
   "metadata": {},
   "outputs": [],
   "source": [
    "mtcars = pd.read_csv(\"/Users/Akaash/Downloads/mtcars.csv\")"
   ]
  },
  {
   "cell_type": "code",
   "execution_count": null,
   "id": "64088c95",
   "metadata": {},
   "outputs": [],
   "source": [
    "mtcars.head()    #to study data of the table    "
   ]
  },
  {
   "cell_type": "code",
   "execution_count": null,
   "id": "576974af",
   "metadata": {},
   "outputs": [],
   "source": [
    "mtcars.columns         #to view the column labels"
   ]
  },
  {
   "cell_type": "code",
   "execution_count": null,
   "id": "3dd85c21",
   "metadata": {},
   "outputs": [],
   "source": [
    "mtcars.shape          #(rows,coln)"
   ]
  },
  {
   "cell_type": "code",
   "execution_count": null,
   "id": "d2012437",
   "metadata": {},
   "outputs": [],
   "source": [
    "#Crosstable\n",
    "CT=pd.crosstab(mtcars.gear, mtcars.cyl)\n",
    "CT"
   ]
  },
  {
   "cell_type": "code",
   "execution_count": null,
   "id": "90465dad",
   "metadata": {},
   "outputs": [],
   "source": [
    "#Bar Plot between 2 Catergories\n",
    "CT.plot(kind=\"bar\")"
   ]
  },
  {
   "cell_type": "code",
   "execution_count": null,
   "id": "21255cc3",
   "metadata": {},
   "outputs": [],
   "source": [
    "mtcars[\"gear\"].value_counts()"
   ]
  },
  {
   "cell_type": "code",
   "execution_count": null,
   "id": "50659b57",
   "metadata": {},
   "outputs": [],
   "source": [
    "#Plotting a Pie by geeting counts of occurance of values from gear column\n",
    "mtcars[\"gear\"].value_counts().plot(kind=\"pie\")"
   ]
  },
  {
   "cell_type": "code",
   "execution_count": null,
   "id": "21a1ba5b",
   "metadata": {},
   "outputs": [],
   "source": [
    "#Plotting a scatter plot of column from mtcars\n",
    "plt.scatter(mtcars.mpg,mtcars.qsec)"
   ]
  },
  {
   "cell_type": "code",
   "execution_count": null,
   "id": "8ebc8656",
   "metadata": {},
   "outputs": [],
   "source": [
    "#Histogram  --1st\n",
    "#Plotting Histogram on 'Mpg' column of mtcars\n",
    "plt.hist(mtcars.mpg)"
   ]
  },
  {
   "cell_type": "code",
   "execution_count": null,
   "id": "40948f05",
   "metadata": {},
   "outputs": [],
   "source": [
    "#Histogram --2nd --Customize\n",
    "#creates histogram with 5bins and colours filled init.\n",
    "plt.hist(mtcars['mpg'],facecolor =\"r\",edgecolor =\"g\",bins = 6)"
   ]
  },
  {
   "cell_type": "code",
   "execution_count": null,
   "id": "de045f90",
   "metadata": {},
   "outputs": [],
   "source": [
    "#Boxplot --1st\n",
    "plt.boxplot(mtcars['mpg'],vert = True)"
   ]
  },
  {
   "cell_type": "code",
   "execution_count": null,
   "id": "9a45e795",
   "metadata": {},
   "outputs": [],
   "source": [
    "#Boxplot --2nd--Customize\n",
    "plt.boxplot(mtcars['mpg'],vert = False)\n",
    "plt.xlabel('boxplot')\n",
    "plt.ylabel('MPG')"
   ]
  },
  {
   "cell_type": "code",
   "execution_count": null,
   "id": "f35962a1",
   "metadata": {},
   "outputs": [],
   "source": [
    "#ViolinPlot\n",
    "#Plotting a Violinplot on 'MPG' column of mtcars\n",
    "plt.violinplot(mtcars.mpg)"
   ]
  },
  {
   "cell_type": "code",
   "execution_count": null,
   "id": "21082cf0",
   "metadata": {},
   "outputs": [],
   "source": []
  },
  {
   "cell_type": "code",
   "execution_count": null,
   "id": "15a319f2",
   "metadata": {},
   "outputs": [],
   "source": []
  },
  {
   "cell_type": "code",
   "execution_count": null,
   "id": "0919975e",
   "metadata": {},
   "outputs": [],
   "source": []
  }
 ],
 "metadata": {
  "kernelspec": {
   "display_name": "Python 3",
   "language": "python",
   "name": "python3"
  },
  "language_info": {
   "codemirror_mode": {
    "name": "ipython",
    "version": 3
   },
   "file_extension": ".py",
   "mimetype": "text/x-python",
   "name": "python",
   "nbconvert_exporter": "python",
   "pygments_lexer": "ipython3",
   "version": "3.8.8"
  }
 },
 "nbformat": 4,
 "nbformat_minor": 5
}
