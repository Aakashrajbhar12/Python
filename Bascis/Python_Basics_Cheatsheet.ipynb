{
 "cells": [
  {
   "cell_type": "code",
   "execution_count": 1,
   "id": "501ff5c1",
   "metadata": {},
   "outputs": [],
   "source": [
    "# Creating A Variable"
   ]
  },
  {
   "cell_type": "code",
   "execution_count": 2,
   "id": "49bdb68a",
   "metadata": {},
   "outputs": [
    {
     "data": {
      "text/plain": [
       "7"
      ]
     },
     "execution_count": 2,
     "metadata": {},
     "output_type": "execute_result"
    }
   ],
   "source": [
    "x=7\n",
    "x"
   ]
  },
  {
   "cell_type": "code",
   "execution_count": 3,
   "id": "34e4c86e",
   "metadata": {},
   "outputs": [],
   "source": [
    "# Arithematic Operators / Calculation with Variables"
   ]
  },
  {
   "cell_type": "code",
   "execution_count": 4,
   "id": "1d273da0",
   "metadata": {},
   "outputs": [
    {
     "data": {
      "text/plain": [
       "9"
      ]
     },
     "execution_count": 4,
     "metadata": {},
     "output_type": "execute_result"
    }
   ],
   "source": [
    "x+2  # (+) Addition operator"
   ]
  },
  {
   "cell_type": "code",
   "execution_count": 5,
   "id": "040daa63",
   "metadata": {},
   "outputs": [
    {
     "data": {
      "text/plain": [
       "5"
      ]
     },
     "execution_count": 5,
     "metadata": {},
     "output_type": "execute_result"
    }
   ],
   "source": [
    "x-2  # (-) Subraction operator"
   ]
  },
  {
   "cell_type": "code",
   "execution_count": 6,
   "id": "cbde4a40",
   "metadata": {},
   "outputs": [
    {
     "data": {
      "text/plain": [
       "14"
      ]
     },
     "execution_count": 6,
     "metadata": {},
     "output_type": "execute_result"
    }
   ],
   "source": [
    "x*2 # (*) Multiplication operator"
   ]
  },
  {
   "cell_type": "code",
   "execution_count": 7,
   "id": "1e773b44",
   "metadata": {},
   "outputs": [
    {
     "data": {
      "text/plain": [
       "3.5"
      ]
     },
     "execution_count": 7,
     "metadata": {},
     "output_type": "execute_result"
    }
   ],
   "source": [
    "x/2 #(/) Division operator"
   ]
  },
  {
   "cell_type": "code",
   "execution_count": 8,
   "id": "71eb0e12",
   "metadata": {},
   "outputs": [
    {
     "data": {
      "text/plain": [
       "49"
      ]
     },
     "execution_count": 8,
     "metadata": {},
     "output_type": "execute_result"
    }
   ],
   "source": [
    "x**2 #(**) Exponent/Square operator"
   ]
  },
  {
   "cell_type": "code",
   "execution_count": 9,
   "id": "b8d5dc4f",
   "metadata": {},
   "outputs": [
    {
     "data": {
      "text/plain": [
       "1"
      ]
     },
     "execution_count": 9,
     "metadata": {},
     "output_type": "execute_result"
    }
   ],
   "source": [
    "x%2 #(%) Modulus/Reminder operator"
   ]
  },
  {
   "cell_type": "raw",
   "id": "31cfa3ce",
   "metadata": {},
   "source": [
    "Data Types in Python.\n",
    "Note:\n",
    "Mutability: Data types that can be modified after creation,This includes - (Lists,Dictionaries,Sets)\n",
    "Immutabilty: Data types that can't be modified after creation,This includes - (Strings,Numbers,Tuples,Frozensets)"
   ]
  },
  {
   "cell_type": "code",
   "execution_count": 10,
   "id": "0a342ca7",
   "metadata": {},
   "outputs": [
    {
     "data": {
      "text/plain": [
       "'Hello'"
      ]
     },
     "execution_count": 10,
     "metadata": {},
     "output_type": "execute_result"
    }
   ],
   "source": [
    "# Strings\n",
    "str1='Hello'\n",
    "str1"
   ]
  },
  {
   "cell_type": "code",
   "execution_count": 11,
   "id": "6d8ca3f2",
   "metadata": {},
   "outputs": [],
   "source": [
    "# Indexing of String (Index in python start with 0)\n",
    "# Use [] square brackets,Inside Square brackets type the index number"
   ]
  },
  {
   "cell_type": "code",
   "execution_count": 12,
   "id": "2f316ac1",
   "metadata": {},
   "outputs": [
    {
     "data": {
      "text/plain": [
       "'H'"
      ]
     },
     "execution_count": 12,
     "metadata": {},
     "output_type": "execute_result"
    }
   ],
   "source": [
    "str1[0]  #Forward Direction "
   ]
  },
  {
   "cell_type": "code",
   "execution_count": 13,
   "id": "a5ee71a0",
   "metadata": {},
   "outputs": [
    {
     "data": {
      "text/plain": [
       "'o'"
      ]
     },
     "execution_count": 13,
     "metadata": {},
     "output_type": "execute_result"
    }
   ],
   "source": [
    "str1[-1] #Backward Direction "
   ]
  },
  {
   "cell_type": "code",
   "execution_count": 14,
   "id": "92853709",
   "metadata": {},
   "outputs": [
    {
     "data": {
      "text/plain": [
       "'HelloPython'"
      ]
     },
     "execution_count": 14,
     "metadata": {},
     "output_type": "execute_result"
    }
   ],
   "source": [
    "str1 + 'Python'  #Concentination,"
   ]
  },
  {
   "cell_type": "code",
   "execution_count": 15,
   "id": "95be424f",
   "metadata": {
    "scrolled": true
   },
   "outputs": [],
   "source": [
    "#str1[0]='F'  # this will give typeError Proving string are immutable"
   ]
  },
  {
   "cell_type": "raw",
   "id": "43462ef1",
   "metadata": {},
   "source": [
    "string Method --sytnax:string_name=method_name()\n",
    "str1.lower()           --String to lowercase\n",
    "str1.upper()           --String to uppercase\n",
    "str1.count('H')        --Count the element i.e Counts 'H' \n",
    "str1.replace('H','F')  --Replace the element i.e replace 'H' with 'F'\n",
    "str1.strip()           --Strip Whitespaces"
   ]
  },
  {
   "cell_type": "code",
   "execution_count": 16,
   "id": "5caa5ff3",
   "metadata": {},
   "outputs": [],
   "source": [
    "# Numbers"
   ]
  },
  {
   "cell_type": "code",
   "execution_count": 17,
   "id": "d319581a",
   "metadata": {},
   "outputs": [
    {
     "data": {
      "text/plain": [
       "10"
      ]
     },
     "execution_count": 17,
     "metadata": {},
     "output_type": "execute_result"
    }
   ],
   "source": [
    "num=10\n",
    "num "
   ]
  },
  {
   "cell_type": "code",
   "execution_count": 18,
   "id": "85abfe33",
   "metadata": {},
   "outputs": [
    {
     "data": {
      "text/plain": [
       "7.7"
      ]
     },
     "execution_count": 18,
     "metadata": {},
     "output_type": "execute_result"
    }
   ],
   "source": [
    "num1=7.7\n",
    "num1"
   ]
  },
  {
   "cell_type": "code",
   "execution_count": 19,
   "id": "fd191c80",
   "metadata": {},
   "outputs": [
    {
     "name": "stdout",
     "output_type": "stream",
     "text": [
      "<class 'int'>\n",
      "<class 'float'>\n"
     ]
    }
   ],
   "source": [
    "# type() give type of data\n",
    "print(type(num))\n",
    "print(type(num1))"
   ]
  },
  {
   "cell_type": "code",
   "execution_count": 20,
   "id": "1212ca84",
   "metadata": {},
   "outputs": [],
   "source": [
    "#Boolean - True & False"
   ]
  },
  {
   "cell_type": "code",
   "execution_count": 21,
   "id": "297bd1a7",
   "metadata": {},
   "outputs": [
    {
     "data": {
      "text/plain": [
       "True"
      ]
     },
     "execution_count": 21,
     "metadata": {},
     "output_type": "execute_result"
    }
   ],
   "source": [
    "1==1"
   ]
  },
  {
   "cell_type": "code",
   "execution_count": 22,
   "id": "3c8aad67",
   "metadata": {},
   "outputs": [
    {
     "data": {
      "text/plain": [
       "False"
      ]
     },
     "execution_count": 22,
     "metadata": {},
     "output_type": "execute_result"
    }
   ],
   "source": [
    "1>1"
   ]
  },
  {
   "cell_type": "code",
   "execution_count": 23,
   "id": "ef4771ef",
   "metadata": {},
   "outputs": [],
   "source": [
    "#Lists  --[], can take dublicate element"
   ]
  },
  {
   "cell_type": "code",
   "execution_count": 24,
   "id": "02c8af15",
   "metadata": {},
   "outputs": [
    {
     "data": {
      "text/plain": [
       "[1, 2, 3, 4, 5]"
      ]
     },
     "execution_count": 24,
     "metadata": {},
     "output_type": "execute_result"
    }
   ],
   "source": [
    "list1=[1,2,3,4,5]    # integer list\n",
    "list1"
   ]
  },
  {
   "cell_type": "code",
   "execution_count": 25,
   "id": "df154ee8",
   "metadata": {},
   "outputs": [
    {
     "data": {
      "text/plain": [
       "['Hello', 'Python', 'Programming', 'Data', 'Science']"
      ]
     },
     "execution_count": 25,
     "metadata": {},
     "output_type": "execute_result"
    }
   ],
   "source": [
    "list2=['Hello','Python',\"Programming\",\"Data\",\"Science\"]     # String list\n",
    "list2"
   ]
  },
  {
   "cell_type": "code",
   "execution_count": 26,
   "id": "d54c33d2",
   "metadata": {},
   "outputs": [
    {
     "data": {
      "text/plain": [
       "[1, 2, 3, 4, 'Hello']"
      ]
     },
     "execution_count": 26,
     "metadata": {},
     "output_type": "execute_result"
    }
   ],
   "source": [
    "list3=[1,2,3,4,\"Hello\"]     # integer & string list\n",
    "list3  "
   ]
  },
  {
   "cell_type": "code",
   "execution_count": 27,
   "id": "e64c4ab5",
   "metadata": {},
   "outputs": [
    {
     "data": {
      "text/plain": [
       "[1, 2, 3, 4, 5]"
      ]
     },
     "execution_count": 27,
     "metadata": {},
     "output_type": "execute_result"
    }
   ],
   "source": [
    "#Changing Element / Checking Mutability of list\n",
    "list3[4]=5\n",
    "list3"
   ]
  },
  {
   "cell_type": "code",
   "execution_count": 28,
   "id": "15eac9d8",
   "metadata": {},
   "outputs": [
    {
     "data": {
      "text/plain": [
       "5"
      ]
     },
     "execution_count": 28,
     "metadata": {},
     "output_type": "execute_result"
    }
   ],
   "source": [
    "len(list1)     #len() gives the length in python"
   ]
  },
  {
   "cell_type": "code",
   "execution_count": 29,
   "id": "f0ba1689",
   "metadata": {},
   "outputs": [
    {
     "name": "stdout",
     "output_type": "stream",
     "text": [
      "4\n",
      "Science\n"
     ]
    }
   ],
   "source": [
    "# Accessing a element  from a list\n",
    "print(list1[3])\n",
    "print(list2[-1])"
   ]
  },
  {
   "cell_type": "code",
   "execution_count": 30,
   "id": "d10ab86a",
   "metadata": {},
   "outputs": [
    {
     "data": {
      "text/plain": [
       "['Python', 'Programming']"
      ]
     },
     "execution_count": 30,
     "metadata": {},
     "output_type": "execute_result"
    }
   ],
   "source": [
    "#Slicing of lists\n",
    "list2[1:3]      #select items at index 1 and 2"
   ]
  },
  {
   "cell_type": "code",
   "execution_count": 31,
   "id": "6b7e2b4e",
   "metadata": {},
   "outputs": [
    {
     "data": {
      "text/plain": [
       "['Python', 'Programming', 'Data', 'Science']"
      ]
     },
     "execution_count": 31,
     "metadata": {},
     "output_type": "execute_result"
    }
   ],
   "source": [
    "list2[1:]      #select items at 1 ingoring index 0"
   ]
  },
  {
   "cell_type": "code",
   "execution_count": 32,
   "id": "6abc5043",
   "metadata": {},
   "outputs": [
    {
     "data": {
      "text/plain": [
       "['Hello', 'Python', 'Programming', 'Data']"
      ]
     },
     "execution_count": 32,
     "metadata": {},
     "output_type": "execute_result"
    }
   ],
   "source": [
    "list2[:4]      #select all items, ingoring index 4"
   ]
  },
  {
   "cell_type": "code",
   "execution_count": 33,
   "id": "7ed52014",
   "metadata": {},
   "outputs": [
    {
     "data": {
      "text/plain": [
       "['Hello', 'Python', 'Programming', 'Data', 'Science']"
      ]
     },
     "execution_count": 33,
     "metadata": {},
     "output_type": "execute_result"
    }
   ],
   "source": [
    "list2[:]     # copy the entire list"
   ]
  },
  {
   "cell_type": "code",
   "execution_count": 34,
   "id": "eaac365c",
   "metadata": {},
   "outputs": [
    {
     "data": {
      "text/plain": [
       "[1, 2, 3, 4, 5, 'Hello', 'Python', 'Programming', 'Data', 'Science']"
      ]
     },
     "execution_count": 34,
     "metadata": {},
     "output_type": "execute_result"
    }
   ],
   "source": [
    "list1 + list2  # Combining / merging two lists  | list operation"
   ]
  },
  {
   "cell_type": "code",
   "execution_count": 35,
   "id": "36709620",
   "metadata": {},
   "outputs": [
    {
     "data": {
      "text/plain": [
       "[1, 2, 3, 4, 5, 1, 2, 3, 4, 5]"
      ]
     },
     "execution_count": 35,
     "metadata": {},
     "output_type": "execute_result"
    }
   ],
   "source": [
    "list1*2       # list operation multiplying same list"
   ]
  },
  {
   "cell_type": "raw",
   "id": "6c435dbf",
   "metadata": {},
   "source": [
    "list Methods --syntax: list_name=method_name()\n",
    "\n",
    "list1.index(1)        --Get the index of the element, where 1 is the element/object name\n",
    "list1.count(1)        --count an element, where 1 is the element/object name\n",
    "list1.append('a')     --Append/add a element, where 'a' is the element/object name\n",
    "list1.extend('b')     --Append/add a element, where 'b' is the element/object name\n",
    "list1.remove(3)       --Remove an element, where 3 is the element/object name\n",
    "del.list1[3]          --delete the element at that index, where 3 is the index\n",
    "list1.pop(4)          --delete the element at that index, where 4 is the index\n",
    "list1.reverse()       --reverse the list\n",
    "list1.insert(0,6)     --insert an element at the given index, where 0 is the index,and 6 is the object name\n",
    "list1.sort()          --Sort the list\n",
    "list1.sorted()        --Sort the list in reverse/desc,where reverse=True"
   ]
  },
  {
   "cell_type": "code",
   "execution_count": 36,
   "id": "136fbd12",
   "metadata": {},
   "outputs": [],
   "source": [
    "#Sets --{}, no dublicate element"
   ]
  },
  {
   "cell_type": "code",
   "execution_count": 37,
   "id": "c903bf92",
   "metadata": {},
   "outputs": [
    {
     "data": {
      "text/plain": [
       "{1, 2, 3, 4, 5}"
      ]
     },
     "execution_count": 37,
     "metadata": {},
     "output_type": "execute_result"
    }
   ],
   "source": [
    "set1={1,2,3,5,4}\n",
    "set1"
   ]
  },
  {
   "cell_type": "code",
   "execution_count": 38,
   "id": "c521c63f",
   "metadata": {},
   "outputs": [
    {
     "data": {
      "text/plain": [
       "{5, 6, 7}"
      ]
     },
     "execution_count": 38,
     "metadata": {},
     "output_type": "execute_result"
    }
   ],
   "source": [
    "set2={5,6,7}\n",
    "set2"
   ]
  },
  {
   "cell_type": "code",
   "execution_count": 39,
   "id": "f8eb3171",
   "metadata": {},
   "outputs": [
    {
     "data": {
      "text/plain": [
       "{5, 6, 7, 8}"
      ]
     },
     "execution_count": 39,
     "metadata": {},
     "output_type": "execute_result"
    }
   ],
   "source": [
    "#function of sets\n",
    "set2.add(8)     # add an element\n",
    "set2"
   ]
  },
  {
   "cell_type": "code",
   "execution_count": 40,
   "id": "d0f571b8",
   "metadata": {},
   "outputs": [
    {
     "data": {
      "text/plain": [
       "{5, 6, 7}"
      ]
     },
     "execution_count": 40,
     "metadata": {},
     "output_type": "execute_result"
    }
   ],
   "source": [
    "set2.remove(8)  #removes an element\n",
    "set2"
   ]
  },
  {
   "cell_type": "raw",
   "id": "3044ef10",
   "metadata": {},
   "source": [
    "Set methods --syntax: set_name=method_name()\n",
    "\n",
    "set1.intersection(set2)   --identify common elements in two sets\n",
    "set1.difference(set2)     --identify uncommon elements in two sets\n",
    "set1.union(set2)          --add/merge elements of both sets,no dublicate are not merged\n",
    "set1.pop()                --delete an element\n",
    "set1.clear()              --clear the entire sets"
   ]
  },
  {
   "cell_type": "code",
   "execution_count": 41,
   "id": "ac7f618a",
   "metadata": {},
   "outputs": [],
   "source": [
    "#Frozensets --{}, similar to sets, methods are same as of sets, but immutable"
   ]
  },
  {
   "cell_type": "code",
   "execution_count": 42,
   "id": "121767a8",
   "metadata": {},
   "outputs": [
    {
     "data": {
      "text/plain": [
       "frozenset({1, 2, 3, 4})"
      ]
     },
     "execution_count": 42,
     "metadata": {},
     "output_type": "execute_result"
    }
   ],
   "source": [
    "fs1=[1,2,3,4]\n",
    "f1=frozenset(fs1)\n",
    "f1"
   ]
  },
  {
   "cell_type": "code",
   "execution_count": 43,
   "id": "a3b5c258",
   "metadata": {},
   "outputs": [
    {
     "data": {
      "text/plain": [
       "frozenset"
      ]
     },
     "execution_count": 43,
     "metadata": {},
     "output_type": "execute_result"
    }
   ],
   "source": [
    "type(f1)"
   ]
  },
  {
   "cell_type": "code",
   "execution_count": 44,
   "id": "d6fa6e1f",
   "metadata": {},
   "outputs": [],
   "source": [
    "#Tuples --(), similar to list, but are immutable"
   ]
  },
  {
   "cell_type": "code",
   "execution_count": 45,
   "id": "35400989",
   "metadata": {},
   "outputs": [
    {
     "data": {
      "text/plain": [
       "(1, 2, 3, 4, 5, 5)"
      ]
     },
     "execution_count": 45,
     "metadata": {},
     "output_type": "execute_result"
    }
   ],
   "source": [
    "tup=(1,2,3,4,5,5)\n",
    "tup"
   ]
  },
  {
   "cell_type": "code",
   "execution_count": 46,
   "id": "3895661e",
   "metadata": {},
   "outputs": [
    {
     "data": {
      "text/plain": [
       "tuple"
      ]
     },
     "execution_count": 46,
     "metadata": {},
     "output_type": "execute_result"
    }
   ],
   "source": [
    "type(tup)"
   ]
  },
  {
   "cell_type": "code",
   "execution_count": 47,
   "id": "ce8ddc3b",
   "metadata": {},
   "outputs": [
    {
     "data": {
      "text/plain": [
       "range(0, 10)"
      ]
     },
     "execution_count": 47,
     "metadata": {},
     "output_type": "execute_result"
    }
   ],
   "source": [
    "#Ranges \n",
    "ran=range(10)\n",
    "ran"
   ]
  },
  {
   "cell_type": "code",
   "execution_count": 48,
   "id": "4d6aea15",
   "metadata": {},
   "outputs": [
    {
     "data": {
      "text/plain": [
       "[1, 2, 3, 4]"
      ]
     },
     "execution_count": 48,
     "metadata": {},
     "output_type": "execute_result"
    }
   ],
   "source": [
    "#converting ranges to list, so tht slicing is possible\n",
    "list(ran)[1:5]"
   ]
  },
  {
   "cell_type": "code",
   "execution_count": 49,
   "id": "60981276",
   "metadata": {},
   "outputs": [
    {
     "data": {
      "text/plain": [
       "{'color': 'Red',\n",
       " 'pointer': 5,\n",
       " 'color1': 'Green',\n",
       " 'pointer1': 7,\n",
       " 'color2': 'Blue'}"
      ]
     },
     "execution_count": 49,
     "metadata": {},
     "output_type": "execute_result"
    }
   ],
   "source": [
    "#Dictionaries --{},key-value pairs, key must be unique,value dont have to unique\n",
    "dict1={'color':'Red','pointer':5,'color1':'Green','pointer1':7,'color2':'Blue'}\n",
    "dict1"
   ]
  },
  {
   "cell_type": "code",
   "execution_count": 50,
   "id": "918e68b8",
   "metadata": {},
   "outputs": [
    {
     "data": {
      "text/plain": [
       "5"
      ]
     },
     "execution_count": 50,
     "metadata": {},
     "output_type": "execute_result"
    }
   ],
   "source": [
    "#Accessing element of Dictionaries\n",
    "dict1['pointer']                  # key_name"
   ]
  },
  {
   "cell_type": "code",
   "execution_count": 51,
   "id": "365de67f",
   "metadata": {},
   "outputs": [
    {
     "data": {
      "text/plain": [
       "{'color': 'Red',\n",
       " 'pointer': 5,\n",
       " 'color1': 'Green',\n",
       " 'pointer1': 7,\n",
       " 'color2': 'Blue',\n",
       " 'pointer2': '7'}"
      ]
     },
     "execution_count": 51,
     "metadata": {},
     "output_type": "execute_result"
    }
   ],
   "source": [
    "#Adding a new key-value pair\n",
    "dict1['pointer2']='7'\n",
    "dict1"
   ]
  },
  {
   "cell_type": "code",
   "execution_count": 52,
   "id": "7682812a",
   "metadata": {},
   "outputs": [
    {
     "data": {
      "text/plain": [
       "{'color': 'Red',\n",
       " 'pointer': 5,\n",
       " 'color1': 'Green',\n",
       " 'pointer1': 7,\n",
       " 'color2': 'Blue'}"
      ]
     },
     "execution_count": 52,
     "metadata": {},
     "output_type": "execute_result"
    }
   ],
   "source": [
    "#deleting a Key-value pair\n",
    "del dict1['pointer2']\n",
    "dict1"
   ]
  },
  {
   "cell_type": "code",
   "execution_count": 53,
   "id": "d69bb528",
   "metadata": {},
   "outputs": [
    {
     "data": {
      "text/plain": [
       "{'color': 'Red',\n",
       " 'pointer': 6,\n",
       " 'color1': 'Green',\n",
       " 'pointer1': 7,\n",
       " 'color2': 'Blue'}"
      ]
     },
     "execution_count": 53,
     "metadata": {},
     "output_type": "execute_result"
    }
   ],
   "source": [
    "#Mutating/Modifing dictionaries\n",
    "dict1['pointer']=6\n",
    "dict1"
   ]
  },
  {
   "cell_type": "code",
   "execution_count": 54,
   "id": "9e8c4e5d",
   "metadata": {},
   "outputs": [
    {
     "name": "stdout",
     "output_type": "stream",
     "text": [
      "dict_keys(['color', 'pointer', 'color1', 'pointer1', 'color2'])\n",
      "dict_values(['Red', 6, 'Green', 7, 'Blue'])\n",
      "dict_items([('color', 'Red'), ('pointer', 6), ('color1', 'Green'), ('pointer1', 7), ('color2', 'Blue')])\n"
     ]
    }
   ],
   "source": [
    "#Methods of Dictionaries\n",
    "print(dict1.keys())     #gives a lists of keys\n",
    "print(dict1.values())   #gives a lists of values\n",
    "print(dict1.items())    #gives a lists of tuples each containing key-value pair\n",
    "\n",
    "#To access these list returned by these method use list()\n",
    "#list(dict1.keys())    --now apply indexing/slicing"
   ]
  },
  {
   "cell_type": "code",
   "execution_count": 55,
   "id": "0ab9911d",
   "metadata": {},
   "outputs": [
    {
     "name": "stdout",
     "output_type": "stream",
     "text": [
      "15\n"
     ]
    },
    {
     "data": {
      "text/plain": [
       "int"
      ]
     },
     "execution_count": 55,
     "metadata": {},
     "output_type": "execute_result"
    }
   ],
   "source": [
    "#Type Conversion -- Data types conversion\n",
    "n=15             #integer\n",
    "print(n)\n",
    "type(n)"
   ]
  },
  {
   "cell_type": "code",
   "execution_count": 56,
   "id": "7794a260",
   "metadata": {},
   "outputs": [
    {
     "name": "stdout",
     "output_type": "stream",
     "text": [
      "15\n"
     ]
    },
    {
     "data": {
      "text/plain": [
       "str"
      ]
     },
     "execution_count": 56,
     "metadata": {},
     "output_type": "execute_result"
    }
   ],
   "source": [
    "strn=str(n)    #str(), int to string\n",
    "print(strn)\n",
    "type(strn)"
   ]
  },
  {
   "cell_type": "code",
   "execution_count": 57,
   "id": "32fc8cfd",
   "metadata": {},
   "outputs": [
    {
     "name": "stdout",
     "output_type": "stream",
     "text": [
      "15.0\n"
     ]
    },
    {
     "data": {
      "text/plain": [
       "float"
      ]
     },
     "execution_count": 57,
     "metadata": {},
     "output_type": "execute_result"
    }
   ],
   "source": [
    "fn=float(n)   #float(), int to float\n",
    "print(fn)\n",
    "type(fn)"
   ]
  },
  {
   "cell_type": "code",
   "execution_count": 58,
   "id": "c4cb41ed",
   "metadata": {},
   "outputs": [
    {
     "name": "stdout",
     "output_type": "stream",
     "text": [
      "15\n"
     ]
    },
    {
     "data": {
      "text/plain": [
       "int"
      ]
     },
     "execution_count": 58,
     "metadata": {},
     "output_type": "execute_result"
    }
   ],
   "source": [
    "i=int(fn)   #int(), float to int\n",
    "print(i)\n",
    "type(i)"
   ]
  },
  {
   "cell_type": "code",
   "execution_count": 59,
   "id": "4d6d071e",
   "metadata": {},
   "outputs": [
    {
     "name": "stdout",
     "output_type": "stream",
     "text": [
      "[1, 2, 3, 4, 5, 5]\n",
      "(1, 2, 3, 4, 5)\n",
      "{1, 2, 3, 4, 5}\n"
     ]
    }
   ],
   "source": [
    "l=list(tup)      #list(),tuple to list \n",
    "print(l)\n",
    "t=tuple(list1)   #tuple(),list to tuple\n",
    "print(t)\n",
    "s=set(list1)     #set(),list to set\n",
    "print(s)\n"
   ]
  },
  {
   "cell_type": "code",
   "execution_count": 60,
   "id": "ad2df672",
   "metadata": {},
   "outputs": [],
   "source": [
    "#Conditional Statements --if, if else, elif"
   ]
  },
  {
   "cell_type": "code",
   "execution_count": 61,
   "id": "678cfc7d",
   "metadata": {},
   "outputs": [
    {
     "name": "stdout",
     "output_type": "stream",
     "text": [
      "z is greater\n"
     ]
    }
   ],
   "source": [
    "#if statement\n",
    "z=10\n",
    "if z>5:\n",
    "    print('z is greater')"
   ]
  },
  {
   "cell_type": "code",
   "execution_count": 62,
   "id": "c8429919",
   "metadata": {},
   "outputs": [
    {
     "name": "stdout",
     "output_type": "stream",
     "text": [
      "z is not greater\n"
     ]
    }
   ],
   "source": [
    "#if else statement\n",
    "z=10\n",
    "if z>15:\n",
    "    print('z is greater')\n",
    "else:\n",
    "    print('z is not greater')"
   ]
  },
  {
   "cell_type": "code",
   "execution_count": 63,
   "id": "da5a8b4a",
   "metadata": {},
   "outputs": [
    {
     "name": "stdout",
     "output_type": "stream",
     "text": [
      "z is equal\n"
     ]
    }
   ],
   "source": [
    "#elif statement\n",
    "z=10\n",
    "if z>15:\n",
    "    print('z is greater')\n",
    "elif z==10:\n",
    "    print('z is equal')\n",
    "else:\n",
    "    print('z is not greater')"
   ]
  },
  {
   "cell_type": "code",
   "execution_count": 64,
   "id": "ac8b20ef",
   "metadata": {},
   "outputs": [],
   "source": [
    "#Loops --for,for else, while, while true, while else"
   ]
  },
  {
   "cell_type": "code",
   "execution_count": 65,
   "id": "572b9f1a",
   "metadata": {},
   "outputs": [
    {
     "name": "stdout",
     "output_type": "stream",
     "text": [
      "1\n",
      "2\n",
      "3\n",
      "4\n"
     ]
    }
   ],
   "source": [
    "#for loop --syntax: for val in sequence, where val=iterating variable, sequence=lists,tuple etc\n",
    "\n",
    "seq1=[1,2,3,4]    #sequence to be looped/iterated\n",
    "for i in seq1:\n",
    "    print(i)\n"
   ]
  },
  {
   "cell_type": "code",
   "execution_count": 66,
   "id": "bb87f12e",
   "metadata": {},
   "outputs": [
    {
     "name": "stdout",
     "output_type": "stream",
     "text": [
      "1\n",
      "2\n",
      "3\n",
      "4\n",
      "Sequence is over\n"
     ]
    }
   ],
   "source": [
    "#for else example   \n",
    "for i in seq1:\n",
    "    print(i)\n",
    "else:\n",
    "    print('Sequence is over')"
   ]
  },
  {
   "cell_type": "code",
   "execution_count": 67,
   "id": "feb45160",
   "metadata": {},
   "outputs": [
    {
     "name": "stdout",
     "output_type": "stream",
     "text": [
      "0 1\n",
      "1 2\n",
      "2 3\n",
      "3 4\n"
     ]
    }
   ],
   "source": [
    "#enumerate() gives list with its index\n",
    "for i,j in enumerate(seq1):\n",
    "    print(i,j)"
   ]
  },
  {
   "cell_type": "code",
   "execution_count": 68,
   "id": "7cb0c531",
   "metadata": {},
   "outputs": [
    {
     "name": "stdout",
     "output_type": "stream",
     "text": [
      "1\n",
      "2\n",
      "3\n",
      "4\n",
      "5\n",
      "6\n",
      "7\n",
      "8\n",
      "9\n",
      "10\n"
     ]
    }
   ],
   "source": [
    "#while loop --excutes unknown/infinte number of times as long as the expression is true\n",
    "y=1\n",
    "while y<=10:    # after y=10 then he loop will end \n",
    "    print(y)\n",
    "    y=y+1"
   ]
  },
  {
   "cell_type": "code",
   "execution_count": 69,
   "id": "5b5fed0a",
   "metadata": {},
   "outputs": [],
   "source": [
    "#while true  --excutes till terminated\n",
    "#while True: --Remove '#' and run \n",
    "   # print('Do something')    #Interrupt the kernal to stop the loop"
   ]
  },
  {
   "cell_type": "code",
   "execution_count": 70,
   "id": "674b02ca",
   "metadata": {},
   "outputs": [
    {
     "name": "stdout",
     "output_type": "stream",
     "text": [
      "1\n",
      "2\n",
      "3\n",
      "4\n",
      "5\n",
      "6\n",
      "7\n",
      "8\n",
      "9\n",
      "10\n",
      "Loop is Ended\n"
     ]
    }
   ],
   "source": [
    "#while else -- else is excuted only when loop condition is false/end\n",
    "y=1\n",
    "while y<=10:    # after y=10 then he loop will end \n",
    "    print(y)\n",
    "    y=y+1\n",
    "else:\n",
    "    print('Loop is Ended')"
   ]
  },
  {
   "cell_type": "code",
   "execution_count": 71,
   "id": "6ef83cdd",
   "metadata": {},
   "outputs": [],
   "source": [
    "#Nested Structures -- nested if, for, while"
   ]
  },
  {
   "cell_type": "code",
   "execution_count": 72,
   "id": "5c1484cb",
   "metadata": {},
   "outputs": [
    {
     "name": "stdout",
     "output_type": "stream",
     "text": [
      "10 z is int\n"
     ]
    }
   ],
   "source": [
    "#Nested if\n",
    "z=10\n",
    "if type(z) is int:\n",
    "    if z==10:\n",
    "        print(z,'z is int')"
   ]
  },
  {
   "cell_type": "code",
   "execution_count": 73,
   "id": "9c7675d8",
   "metadata": {},
   "outputs": [
    {
     "name": "stdout",
     "output_type": "stream",
     "text": [
      "40\n",
      "80\n",
      "120\n",
      "50\n",
      "100\n",
      "150\n",
      "60\n",
      "120\n",
      "180\n"
     ]
    }
   ],
   "source": [
    "#Nested for\n",
    "a=[4,5,6]\n",
    "b=[10,20,30]\n",
    "for i in a:\n",
    "    for j in b:\n",
    "        print(i*j)"
   ]
  },
  {
   "cell_type": "code",
   "execution_count": 74,
   "id": "6e282cdc",
   "metadata": {},
   "outputs": [
    {
     "name": "stdout",
     "output_type": "stream",
     "text": [
      "1\n",
      "2\n",
      "1\n",
      "2\n",
      "1\n",
      "2\n",
      "1\n",
      "2\n",
      "1\n",
      "2\n"
     ]
    }
   ],
   "source": [
    "#Nested while\n",
    "c=1\n",
    "while c<=5:\n",
    "    d=1\n",
    "    c=c+1\n",
    "    while d<=2:\n",
    "        print(d)\n",
    "        d+=1      # is same as d=d+1"
   ]
  },
  {
   "cell_type": "code",
   "execution_count": 75,
   "id": "66e18ae0",
   "metadata": {},
   "outputs": [],
   "source": [
    "#Control Statements --break, continue, pass"
   ]
  },
  {
   "cell_type": "code",
   "execution_count": 76,
   "id": "dacf8aa9",
   "metadata": {},
   "outputs": [
    {
     "name": "stdout",
     "output_type": "stream",
     "text": [
      "0\n",
      "1\n",
      "2\n",
      "3\n",
      "4\n"
     ]
    }
   ],
   "source": [
    "#break statement --End/Break the loop\n",
    "for n in range(10):\n",
    "    if n==5:\n",
    "        break     #keyword\n",
    "    print(n)"
   ]
  },
  {
   "cell_type": "code",
   "execution_count": 77,
   "id": "4b530f4e",
   "metadata": {},
   "outputs": [
    {
     "name": "stdout",
     "output_type": "stream",
     "text": [
      "0\n",
      "1\n",
      "2\n",
      "3\n",
      "4\n",
      "6\n",
      "7\n",
      "8\n",
      "9\n"
     ]
    }
   ],
   "source": [
    "#Continue statement --Skip a iteration of the loop\n",
    "for n in range(10):\n",
    "    if n==5:\n",
    "        continue     #keyword\n",
    "    print(n)"
   ]
  },
  {
   "cell_type": "code",
   "execution_count": 78,
   "id": "63869dae",
   "metadata": {},
   "outputs": [],
   "source": [
    "#pass statement -- null the operation\n",
    "for n in range(10):\n",
    "    pass          #keyword   "
   ]
  },
  {
   "cell_type": "code",
   "execution_count": 79,
   "id": "fa3b5ed2",
   "metadata": {},
   "outputs": [],
   "source": [
    "#Exceptions\n",
    "#Two types of Errors --syntax error, Exception"
   ]
  },
  {
   "cell_type": "code",
   "execution_count": 80,
   "id": "5cbd407f",
   "metadata": {},
   "outputs": [],
   "source": [
    "#Exceptions Handling --try-except block, try-except-else block, try finally block"
   ]
  },
  {
   "cell_type": "code",
   "execution_count": 81,
   "id": "f21e47e6",
   "metadata": {},
   "outputs": [
    {
     "name": "stdout",
     "output_type": "stream",
     "text": [
      "division by zero Not Divisble\n"
     ]
    }
   ],
   "source": [
    "#Try-except block\n",
    "n=5\n",
    "try:\n",
    "    print(5/0)\n",
    "except ZeroDivisionError as e:  #here exception is defined ZeroDivisionError\n",
    "    print(e,\"Not Divisble\")\n",
    "    "
   ]
  },
  {
   "cell_type": "code",
   "execution_count": 82,
   "id": "2bb5835d",
   "metadata": {},
   "outputs": [
    {
     "name": "stdout",
     "output_type": "stream",
     "text": [
      "Not Divisble\n"
     ]
    }
   ],
   "source": [
    "n=5\n",
    "try:\n",
    "    print(5/0)\n",
    "except:                       # Not defining the exception as sometimes we dont know\n",
    "    print(\"Not Divisble\")"
   ]
  },
  {
   "cell_type": "code",
   "execution_count": 83,
   "id": "b7cfeb49",
   "metadata": {},
   "outputs": [
    {
     "name": "stdout",
     "output_type": "stream",
     "text": [
      "2.0\n",
      "No exception raised by the except block\n"
     ]
    }
   ],
   "source": [
    "#try-except-else block --if no exception is raised else part is excuted\n",
    "try:\n",
    "    print(4/2)\n",
    "except:\n",
    "    print(\"Some error\")\n",
    "else:\n",
    "    print(\"No exception raised by the except block\")"
   ]
  },
  {
   "cell_type": "code",
   "execution_count": 84,
   "id": "e0273b4d",
   "metadata": {},
   "outputs": [
    {
     "name": "stdout",
     "output_type": "stream",
     "text": [
      "2.0\n",
      "i don't care,im getting printed\n"
     ]
    }
   ],
   "source": [
    "#try finally block   --independent of errors/exceptions finally block is excuted\n",
    "#No error code for finally block\n",
    "try:\n",
    "    print(4/2)\n",
    "except:\n",
    "    print(\"Some error\")\n",
    "finally:\n",
    "    print(\"i don't care,im getting printed\")"
   ]
  },
  {
   "cell_type": "code",
   "execution_count": 85,
   "id": "34f456b8",
   "metadata": {},
   "outputs": [
    {
     "name": "stdout",
     "output_type": "stream",
     "text": [
      "Not Divisible Error\n",
      "There is error but i don't care,im getting printed\n"
     ]
    }
   ],
   "source": [
    "#with error code for finally block\n",
    "try:\n",
    "    print(4/0)\n",
    "except:\n",
    "    print(\"Not Divisible Error\")\n",
    "finally:\n",
    "    print(\"There is error but i don't care,im getting printed\")"
   ]
  },
  {
   "cell_type": "code",
   "execution_count": 86,
   "id": "52d1f059",
   "metadata": {},
   "outputs": [],
   "source": [
    "#Function --Organized block of code, reuseable\n",
    "#Defining a function -- def func_name(), where def=keyword, followed by function name of your choice\n",
    "\n",
    "def myfunc():               #defines a function\n",
    "    \"My First Function\"     #describe the func, also called as docstring\n",
    "    print('hello python')"
   ]
  },
  {
   "cell_type": "code",
   "execution_count": 87,
   "id": "de8b7705",
   "metadata": {},
   "outputs": [
    {
     "name": "stdout",
     "output_type": "stream",
     "text": [
      "hello python\n"
     ]
    }
   ],
   "source": [
    "#calling a function\n",
    "\n",
    "myfunc()  #call a func by its name"
   ]
  },
  {
   "cell_type": "code",
   "execution_count": 88,
   "id": "53d6638c",
   "metadata": {},
   "outputs": [
    {
     "name": "stdout",
     "output_type": "stream",
     "text": [
      "Hii python\n"
     ]
    }
   ],
   "source": [
    "#function are mutable\n",
    "def myfunc():\n",
    "    print('Hii python')   #changing the code\n",
    "myfunc()"
   ]
  },
  {
   "cell_type": "code",
   "execution_count": 89,
   "id": "4f97283d",
   "metadata": {},
   "outputs": [],
   "source": [
    "#Function --Parameters & Arguments"
   ]
  },
  {
   "cell_type": "code",
   "execution_count": 90,
   "id": "b3f52efb",
   "metadata": {},
   "outputs": [],
   "source": [
    "#Parameters --Written inside the parenthesis while defining a func\n",
    "\n",
    "def myfunc(x):         #Here,x is the parameter\n",
    "    \"Func with Parameter\"\n",
    "    print(x)"
   ]
  },
  {
   "cell_type": "code",
   "execution_count": 91,
   "id": "b98bf7b0",
   "metadata": {},
   "outputs": [
    {
     "name": "stdout",
     "output_type": "stream",
     "text": [
      "This is argument for x parameter\n"
     ]
    }
   ],
   "source": [
    "#Arguments --Written when calling a func\n",
    "myfunc(\"This is argument for x parameter\")"
   ]
  },
  {
   "cell_type": "code",
   "execution_count": 92,
   "id": "86ca32f8",
   "metadata": {},
   "outputs": [],
   "source": [
    "#Multiple Parameter in one func\n",
    "\n",
    "def myfunc1(x,y):             #defining func with multiple parameter\n",
    "    print(\"hello\"+ \" \" + x)\n",
    "    print(\"hello\"+ \" \"+ y)"
   ]
  },
  {
   "cell_type": "code",
   "execution_count": 93,
   "id": "164e6c74",
   "metadata": {},
   "outputs": [
    {
     "name": "stdout",
     "output_type": "stream",
     "text": [
      "hello Data\n",
      "hello Science\n"
     ]
    }
   ],
   "source": [
    "#Multiple Argument when calling a func\n",
    "\n",
    "myfunc1(\"Data\",\"Science\")"
   ]
  },
  {
   "cell_type": "code",
   "execution_count": 94,
   "id": "2844524f",
   "metadata": {},
   "outputs": [
    {
     "data": {
      "text/plain": [
       "9"
      ]
     },
     "execution_count": 94,
     "metadata": {},
     "output_type": "execute_result"
    }
   ],
   "source": [
    "#Types of Arguments -- Positional, Keyword, Default argument\n",
    "\n",
    "#Positional Arguments --it follows the parameter position\n",
    "\n",
    "def myfunc(x,y,z):\n",
    "    sum=(x+y)*z   \n",
    "    return sum     #return statement\n",
    "\n",
    "myfunc(1,2,3)     #Here, x=1,y=2,z=3,thus following parameter position,\n",
    "                  #No.of parameter = No. of arguments,if not then type error"
   ]
  },
  {
   "cell_type": "code",
   "execution_count": 95,
   "id": "b108d0f9",
   "metadata": {},
   "outputs": [
    {
     "data": {
      "text/plain": [
       "9"
      ]
     },
     "execution_count": 95,
     "metadata": {},
     "output_type": "execute_result"
    }
   ],
   "source": [
    "#keyword Argument --assign/specify parameter name with argument \n",
    "def myfunc(x,y,z):\n",
    "    sum=(x+y)*z   \n",
    "    return sum\n",
    "myfunc(z=3,x=1,y=2)  #specify parameter value"
   ]
  },
  {
   "cell_type": "code",
   "execution_count": 96,
   "id": "883f4a37",
   "metadata": {},
   "outputs": [
    {
     "data": {
      "text/plain": [
       "9"
      ]
     },
     "execution_count": 96,
     "metadata": {},
     "output_type": "execute_result"
    }
   ],
   "source": [
    "#Combining Positional & Keyword Argument --Positional argument follows keyword argument\n",
    "def myfunc(x,y,z):\n",
    "    sum=(x+y)*z   \n",
    "    return sum\n",
    "myfunc(1,2,z=3) "
   ]
  },
  {
   "cell_type": "code",
   "execution_count": 97,
   "id": "587fc555",
   "metadata": {},
   "outputs": [
    {
     "data": {
      "text/plain": [
       "9"
      ]
     },
     "execution_count": 97,
     "metadata": {},
     "output_type": "execute_result"
    }
   ],
   "source": [
    "#Default arguments --defining argument in the func itself\n",
    "def myfunc(x,y,z=3):\n",
    "    sum=(x+y)*z   \n",
    "    return sum\n",
    "myfunc(1,2)"
   ]
  },
  {
   "cell_type": "code",
   "execution_count": 98,
   "id": "7b297642",
   "metadata": {},
   "outputs": [
    {
     "name": "stdout",
     "output_type": "stream",
     "text": [
      "1\n",
      "(2, 3)\n",
      "{'a': 1, 'b': 2, 'c': 3}\n"
     ]
    }
   ],
   "source": [
    "#When you dont know how many parameter you want in a func\n",
    "\n",
    "# (*) Single asterisk for positional arguments --This will return the other argument in Tuple\n",
    "# (**) Two asterisk for keyword arguments      --This will return the other argument in Dictionaries\n",
    "def func(x,*y):\n",
    "    print (x)\n",
    "    print (y)\n",
    "func(1,2,3)\n",
    "\n",
    "def func1(**ky):\n",
    "    print(ky)\n",
    "func1(a=1,b=2,c=3)"
   ]
  },
  {
   "cell_type": "code",
   "execution_count": 99,
   "id": "b78f98e3",
   "metadata": {},
   "outputs": [],
   "source": [
    "#Class --A Data type tht contain its own variables,attributes & function\n",
    "\n",
    "#Defining a class --syntax: class class_name():\n",
    "\n",
    "class phone():        # where class=keyword, firstclass=class_name\n",
    "    \"Give Detail of phone\"\n",
    "    def __init__(self, phonename, model, price):    #initializing variable for the class\n",
    "        self.phonename = phonename\n",
    "        self.model = model\n",
    "        self.price = price\n",
    "        \n",
    "#__init__ is a method used to initial variable for a class\n",
    "#self must be the fisrt parameter, its just a reference to the class\n",
    "\n",
    "    def print_phone(self):             #defining a func for the class     \n",
    "        print(\"Phone name is:\",self.phonename)\n",
    "        print(\"Phone model is:\",self.model)\n",
    "        print(\"Phone price is:\",self.price)"
   ]
  },
  {
   "cell_type": "code",
   "execution_count": 100,
   "id": "7d7ccc2d",
   "metadata": {},
   "outputs": [
    {
     "data": {
      "text/plain": [
       "'Redmi'"
      ]
     },
     "execution_count": 100,
     "metadata": {},
     "output_type": "execute_result"
    }
   ],
   "source": [
    "#creating object for a class --syntax: object_name=class_name()\n",
    "detail=phone(\"Redmi\",\"Note 8\",12000)\n",
    "\n",
    "#calling method/func of class through object\n",
    "detail.phonename"
   ]
  },
  {
   "cell_type": "code",
   "execution_count": 101,
   "id": "8082afc5",
   "metadata": {},
   "outputs": [
    {
     "data": {
      "text/plain": [
       "True"
      ]
     },
     "execution_count": 101,
     "metadata": {},
     "output_type": "execute_result"
    }
   ],
   "source": [
    "#Function for object attributes\n",
    "detail.phonename                          #check attribute value\n",
    "detail.phonename=\"Micromax\"               #changing attribute value\n",
    "getattr(detail,'phonename')               #gives/check attribute value\n",
    "setattr(detail,'phonename','Redmi')       #set/change attribute value\n",
    "hasattr(detail,'phonename')               #Check whether an attribute exist or not\n",
    "#delattr(detail,'phonename')              #deletes an attribute\n",
    "isinstance(detail,phone)                  #to Confirm that object \"detail\" is a object of class\"phone\"\n",
    "\n",
    "#Note: Run these code individually "
   ]
  },
  {
   "cell_type": "code",
   "execution_count": 102,
   "id": "daa4d715",
   "metadata": {},
   "outputs": [
    {
     "name": "stdout",
     "output_type": "stream",
     "text": [
      "John False\n",
      "David True\n"
     ]
    }
   ],
   "source": [
    "#Class Inheritance -- new class is called derived class, existing class is called base class\n",
    "class Person():\n",
    "    def __init__(self,name):\n",
    "        self.name=name\n",
    "    def getname(self):\n",
    "        print(\"Name is:\",self.name)\n",
    "    def employee(self):\n",
    "        return False\n",
    "class Employee(Person):      #class employee inherit from class person\n",
    "    def employee(self):\n",
    "        return True\n",
    "emp=Person(\"John\")\n",
    "print(emp.name,emp.employee())\n",
    "emp=Employee(\"David\")\n",
    "print(emp.name,emp.employee())"
   ]
  },
  {
   "cell_type": "code",
   "execution_count": 103,
   "id": "378031ac",
   "metadata": {},
   "outputs": [],
   "source": [
    "#Files --opening & Reading\n",
    "\n",
    "#open a file --syntax:obj_name=open(filename or location,mode)\n",
    "#where obj_name = variable / object to store the file, \n",
    "#filename or location = name of the file to open Or the location of the file\n",
    "#mode= which mode you want to open the file,hence\n",
    "#there are multiple mode in python -- \n",
    "#r=reading a file, \n",
    "#w=writing a file, \n",
    "#a=appending a file at the end\n",
    "#b=binary file with no text\n",
    "#x=exclusive creation ,for exclusively creating a file & fails if the file already exists"
   ]
  },
  {
   "cell_type": "code",
   "execution_count": 104,
   "id": "fbd99154",
   "metadata": {},
   "outputs": [],
   "source": [
    "#myfile=open(file_location,\"r\") -- opening in read mode\n",
    "#myfile.mode                    -- checking the mode"
   ]
  },
  {
   "cell_type": "code",
   "execution_count": 105,
   "id": "cde5d9e4",
   "metadata": {},
   "outputs": [],
   "source": [
    "#Access & print Data from a file --3 methods\n",
    "#Method 1\n",
    "#myfile.read() -- give the enitre file \n",
    "\n",
    "#Note: when file is read then the cursor location is at the end of the file,\n",
    "#so that file cannot be read again because file is over,\n",
    "#So Cursor needs to be at the start to read that file again,to that use seek() method\n",
    "\n",
    "#syntax:seek(position_number)\n",
    "#myfile.seek(0)     --Now cursor will be positioned at the start,and the file can be read again\n",
    "\n",
    "#tell() --tellsthe position of the cursor\n",
    "#myfile.tell()     "
   ]
  },
  {
   "cell_type": "code",
   "execution_count": 106,
   "id": "474d2faa",
   "metadata": {},
   "outputs": [],
   "source": [
    "#Method 2\n",
    "#myfile.readline() -- it return the file line by line,one line at a time"
   ]
  },
  {
   "cell_type": "code",
   "execution_count": 107,
   "id": "9479a482",
   "metadata": {},
   "outputs": [],
   "source": [
    "#Method 3\n",
    "#myfile.readlines() --it return a list,where each element is a line"
   ]
  },
  {
   "cell_type": "code",
   "execution_count": 108,
   "id": "8376da1c",
   "metadata": {},
   "outputs": [],
   "source": [
    "#myfile=open(file_location,\"x\")\n",
    "\n",
    "#if a file of same name exist in the given location,then this will throw file exist error\n",
    "#if a file doesn't exist it will create a file of that name at that location"
   ]
  },
  {
   "cell_type": "code",
   "execution_count": 109,
   "id": "1b159d6c",
   "metadata": {},
   "outputs": [],
   "source": [
    "#Writing a file -- use 'w' mode\n",
    "\n",
    "#newfile=open(file_location,'w')  --file created\n",
    "\n",
    "#newfile.write('This a File written in w mode') -- it will give the no of character written\n",
    "\n",
    "#after writing ths file to save use\n",
    "#newfile.close()       --this will save the changes/data you wrote\n",
    "\n",
    "#to check if the file is closed or not\n",
    "#newfile.closed        --this will return true if the file is closed,else false"
   ]
  },
  {
   "cell_type": "code",
   "execution_count": 110,
   "id": "855561d8",
   "metadata": {},
   "outputs": [],
   "source": [
    "#writelines() -- this methods takes a sequences usually a list and writes the file\n",
    "#newfile.writelines([1,2,3,4])   --writes a file\n",
    "#newfile.close()                 --saves the data/changes"
   ]
  },
  {
   "cell_type": "code",
   "execution_count": 111,
   "id": "e288f162",
   "metadata": {},
   "outputs": [],
   "source": [
    "#to append the file in the end\n",
    "#newfile=open(file_location,'a')            --opens the file for appending\n",
    "#newfile.write('this will be appended')     --appends at the ends\n",
    "#newfile.close()                            --save the data/changes"
   ]
  },
  {
   "cell_type": "code",
   "execution_count": 112,
   "id": "aa3e9024",
   "metadata": {},
   "outputs": [],
   "source": [
    "#To open file for both reading & Writing\n",
    "#Use: r+, w+, a+\n",
    "\n",
    "#Note: \n",
    "#To run the code of files remove the '#' and run\n",
    "#Also to see changes in the file,open the in the notepad or open the using r mode."
   ]
  },
  {
   "cell_type": "code",
   "execution_count": 113,
   "id": "1ed7f0cc",
   "metadata": {},
   "outputs": [
    {
     "name": "stdout",
     "output_type": "stream",
     "text": [
      "Requirement already satisfied: numpy in c:\\users\\akaash\\anaconda3\\lib\\site-packages (1.20.1)\n"
     ]
    }
   ],
   "source": [
    "#Installing Libraries\n",
    "\n",
    "#Syntax: !pip install libary_name\n",
    "\n",
    "!pip install numpy"
   ]
  },
  {
   "cell_type": "code",
   "execution_count": 114,
   "id": "d46b3940",
   "metadata": {},
   "outputs": [],
   "source": [
    "#Importing Libraries\n",
    "\n",
    "#Syntax: import libary_name as alias_name\n",
    "\n",
    "import numpy as np"
   ]
  },
  {
   "cell_type": "raw",
   "id": "673db2c0",
   "metadata": {},
   "source": [
    "Python Basics_cheetsheet includes\n",
    "1.Defining a Variable\n",
    "2.Arithematic operators\n",
    "3.Data Types in Python(String,Number,Boolean,Lists,Tuples,Sets,Frozensets,Dictionaries)\n",
    "4.Indexing & Slicing\n",
    "5.Type Conversion\n",
    "6.Conditional Statements(if,if-else,elif)\n",
    "7.Loop Statements(for,while,for-else,while-true,while-else)\n",
    "8.Control Statement(break,continue,pass)\n",
    "9.Exception handling\n",
    "10.Functions in Python\n",
    "11.Classes in Python\n",
    "12.Files in Python\n",
    "13.Libraries in Python"
   ]
  }
 ],
 "metadata": {
  "kernelspec": {
   "display_name": "Python 3",
   "language": "python",
   "name": "python3"
  },
  "language_info": {
   "codemirror_mode": {
    "name": "ipython",
    "version": 3
   },
   "file_extension": ".py",
   "mimetype": "text/x-python",
   "name": "python",
   "nbconvert_exporter": "python",
   "pygments_lexer": "ipython3",
   "version": "3.8.8"
  }
 },
 "nbformat": 4,
 "nbformat_minor": 5
}
