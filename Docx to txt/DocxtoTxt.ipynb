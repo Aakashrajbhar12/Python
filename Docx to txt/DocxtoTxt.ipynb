{
  "nbformat": 4,
  "nbformat_minor": 0,
  "metadata": {
    "colab": {
      "name": "DocxtoTxt.ipynb",
      "provenance": []
    },
    "kernelspec": {
      "name": "python3",
      "display_name": "Python 3"
    },
    "language_info": {
      "name": "python"
    }
  },
  "cells": [
    {
      "cell_type": "markdown",
      "source": [
        "Docx To Text Using Python"
      ],
      "metadata": {
        "id": "pbjHS5_hEkic"
      }
    },
    {
      "cell_type": "code",
      "source": [
        "##Install the Library First\n",
        "#pip install docx2txt"
      ],
      "metadata": {
        "id": "SC_WyDR6FrB8"
      },
      "execution_count": 1,
      "outputs": []
    },
    {
      "cell_type": "code",
      "source": [
        "Doc_List = [\"Doc1.docx\",\"Doc2.docx\"]\n"
      ],
      "metadata": {
        "id": "Wxheo_ynJjQq"
      },
      "execution_count": 1,
      "outputs": []
    },
    {
      "cell_type": "code",
      "source": [
        "import docx2txt\n",
        "\n",
        "for Doc in Doc_List:\n",
        "  # replace following line with location of your .docx file\n",
        "  MY_TEXT = docx2txt.process(Doc)\n",
        "  with open(\"Output.txt\", \"a\") as text_file:\n",
        "      print(MY_TEXT, file=text_file)"
      ],
      "metadata": {
        "id": "xbDXer9dMJr4"
      },
      "execution_count": 3,
      "outputs": []
    }
  ]
}