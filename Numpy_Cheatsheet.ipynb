{
 "cells": [
  {
   "cell_type": "markdown",
   "id": "acf9f90c",
   "metadata": {},
   "source": [
    "## NumPy Libary\n",
    "#### > It is the core libary for numerical & scientific computing in Python. It has multidimensional array as its data structures,and it provides tools to work with these structures"
   ]
  },
  {
   "cell_type": "code",
   "execution_count": 1,
   "id": "8c47799b",
   "metadata": {},
   "outputs": [
    {
     "name": "stdout",
     "output_type": "stream",
     "text": [
      "Requirement already satisfied: numpy in c:\\users\\akaash\\anaconda3\\lib\\site-packages (1.20.1)\n"
     ]
    }
   ],
   "source": [
    "#Installing numpy libary\n",
    "!pip install numpy"
   ]
  },
  {
   "cell_type": "code",
   "execution_count": 2,
   "id": "dbfa9846",
   "metadata": {},
   "outputs": [],
   "source": [
    "#Importing Numpy Libary\n",
    "import numpy as np     #np= alias name"
   ]
  },
  {
   "cell_type": "markdown",
   "id": "4b3e0bc4",
   "metadata": {},
   "source": [
    "#### NumPy Array -- 3 types\n",
    "#### 1D array, 2D array(axis1,axis0) & 3D array(axis1,axis2,axis0)"
   ]
  },
  {
   "cell_type": "code",
   "execution_count": 3,
   "id": "a6ad72d5",
   "metadata": {
    "scrolled": true
   },
   "outputs": [
    {
     "name": "stdout",
     "output_type": "stream",
     "text": [
      "[1 2 3]\n",
      "[[1 2 3]\n",
      " [4 5 6]]\n",
      "[[[ 1  2  3]\n",
      "  [ 4  5  6]]\n",
      "\n",
      " [[ 7  8  9]\n",
      "  [10 11 12]]]\n"
     ]
    }
   ],
   "source": [
    "#Creating NumPy Arrays\n",
    "a = np.array([1,2,3])                                        #1D array\n",
    "print(a)\n",
    "b = np.array([(1,2,3), (4,5,6)])                             #2D array\n",
    "print(b)\n",
    "c = np.array([[(1,2,3), (4,5,6)], [(7,8,9), (10,11,12)]])    #3D array\n",
    "print(c)"
   ]
  },
  {
   "cell_type": "code",
   "execution_count": 4,
   "id": "43dfbd9e",
   "metadata": {},
   "outputs": [],
   "source": [
    "#Data Types in NumPy\n",
    "# np.int64       #64bit integer \n",
    "# np.float32     #Floating point number\n",
    "# np.complex     #Complex number represented by 128 floats\n",
    "# np.bool        #Boolean Type (True & False)\n",
    "# np.object      #object type(String)\n",
    "# np.string_     #Fixed length String type\n",
    "# np.unicode_    #Fixed length unicode type"
   ]
  },
  {
   "cell_type": "code",
   "execution_count": 5,
   "id": "0aceba94",
   "metadata": {},
   "outputs": [],
   "source": [
    "#Creating Different types of array by using NumPy initial Placeholders\n",
    "\n",
    "#Create an array of  zeros -- Row & Col=3 & 4\n",
    "z = np.zeros((3,4))     \n",
    "\n",
    "#Create an array of ones  \n",
    "o = np.ones((2,3,4), dtype=np.int64)\n",
    "\n",
    "#Create an array of evenly spaced values(step value)     --first two are range value, last is the different\n",
    "d = np.arange(10,25,5)\n",
    "\n",
    "#Create an array of evenly spaced values(No. of samples) --first value=starting point, Second=End point, Third=No.of samples\n",
    "l=np.linspace(0,2,9)\n",
    "\n",
    "#create a constant array  --Row & Col=2, array of=7\n",
    "cs=np.full((3,3),7)\n",
    "\n",
    "#Create a 3X3 identity Matrix\n",
    "e=np.eye(3,3, dtype=np.int64)\n",
    "\n",
    "#Create an array with random Values\n",
    "r=np.random.random((2,3))\n",
    "r\n",
    "\n",
    "#Create an empty array\n",
    "em=np.empty((3,2))\n",
    "\n",
    "#Note:Run this whole cell, then in below cell type the array's variable to see output"
   ]
  },
  {
   "cell_type": "code",
   "execution_count": 6,
   "id": "ab6c5682",
   "metadata": {},
   "outputs": [
    {
     "data": {
      "text/plain": [
       "array([1., 2., 3.])"
      ]
     },
     "execution_count": 6,
     "metadata": {},
     "output_type": "execute_result"
    }
   ],
   "source": [
    "#Inspecting Array using NumPy Attributes\n",
    "e.shape          #give array dimensions\n",
    "len(e)           #Length of array\n",
    "c.ndim           #Number of array dimension\n",
    "e.size           #Number of array elements\n",
    "e.dtype          #Data type of array element\n",
    "a.astype(float)  #Convert an array to dirent type"
   ]
  },
  {
   "cell_type": "code",
   "execution_count": 7,
   "id": "3d1f4fc9",
   "metadata": {},
   "outputs": [
    {
     "data": {
      "text/plain": [
       "array([[7, 7, 7],\n",
       "       [7, 7, 7],\n",
       "       [7, 7, 7]], dtype=int64)"
      ]
     },
     "execution_count": 7,
     "metadata": {},
     "output_type": "execute_result"
    }
   ],
   "source": [
    "#Arthematic Operation on array\n",
    "#addition (+) or np.add()\n",
    "add = a + b\n",
    "np.add(a,b)\n",
    "\n",
    "#Subtraction (-) or np.subtract()\n",
    "sub = a - b\n",
    "np.subtract(a,b)\n",
    "\n",
    "#Division (/) or np.divide()\n",
    "div = a/b\n",
    "np.divide(a,b)\n",
    "\n",
    "#Multiplication (*) or np.multiply()\n",
    "mul = a*b\n",
    "np.multiply(a,b)\n",
    "\n",
    "np.exp(a)     #Exponent (Reminder)\n",
    "np.sqrt(a)    #Square root\n",
    "np.sin(a)     #Sines\n",
    "np.cos(a)     #cosine\n",
    "np.log(a)     #log\n",
    "e.dot(cs)     #Dot product"
   ]
  },
  {
   "cell_type": "code",
   "execution_count": 8,
   "id": "31d8822b",
   "metadata": {},
   "outputs": [
    {
     "data": {
      "text/plain": [
       "0.816496580927726"
      ]
     },
     "execution_count": 8,
     "metadata": {},
     "output_type": "execute_result"
    }
   ],
   "source": [
    "#Aggregate Function NumPy\n",
    "a.sum()           #Array wise sum\n",
    "a.min()           #Array wise min value\n",
    "c.max()           #Array wise max value\n",
    "b.cumsum(axis=1)  #Cumulative sum of the elements\n",
    "a.mean()          #Mean\n",
    "np.std(a)         #Standard Deviation"
   ]
  },
  {
   "cell_type": "code",
   "execution_count": 9,
   "id": "5e8e53c9",
   "metadata": {},
   "outputs": [],
   "source": [
    "#Sorting of array\n",
    "a.sort()        #sort an array\n",
    "a.sort(axis=0)  #sort the element of an array's axis"
   ]
  },
  {
   "cell_type": "code",
   "execution_count": 10,
   "id": "8800a6ef",
   "metadata": {},
   "outputs": [
    {
     "data": {
      "text/plain": [
       "6"
      ]
     },
     "execution_count": 10,
     "metadata": {},
     "output_type": "execute_result"
    }
   ],
   "source": [
    "#Subsetting--  index starts at 0\n",
    "\n",
    "\n",
    "a[2]   \n",
    "b[1,2] #[row,coln]"
   ]
  },
  {
   "cell_type": "code",
   "execution_count": 11,
   "id": "8684eafb",
   "metadata": {},
   "outputs": [
    {
     "data": {
      "text/plain": [
       "array([3, 2, 1])"
      ]
     },
     "execution_count": 11,
     "metadata": {},
     "output_type": "execute_result"
    }
   ],
   "source": [
    "#Slicing\n",
    "a[0:2]      #at index 0 & 1\n",
    "b[0:2,1]    #at rows 0 & 1 in coln 1\n",
    "b[:1]       #at row 0 \n",
    "c[1,:,:]    #at row 1 and all coln\n",
    "a[::-1]     #reverse array"
   ]
  },
  {
   "cell_type": "code",
   "execution_count": 12,
   "id": "2aa2001b",
   "metadata": {},
   "outputs": [
    {
     "data": {
      "text/plain": [
       "array([[1, 4],\n",
       "       [2, 5],\n",
       "       [3, 6]])"
      ]
     },
     "execution_count": 12,
     "metadata": {},
     "output_type": "execute_result"
    }
   ],
   "source": [
    "#Array Manipulation --Transposing array,\n",
    "\n",
    "i=np.transpose(b)     #Permute array dimensions\n",
    "i.T                   #same as np.transpose()\n",
    "i.reshape(3,2)        #same as np.transpose()"
   ]
  },
  {
   "cell_type": "code",
   "execution_count": 13,
   "id": "bffa1562",
   "metadata": {},
   "outputs": [
    {
     "data": {
      "text/plain": [
       "array([[1, 2],\n",
       "       [3, 4],\n",
       "       [5, 6]])"
      ]
     },
     "execution_count": 13,
     "metadata": {},
     "output_type": "execute_result"
    }
   ],
   "source": [
    "#Changing array shape\n",
    "b.ravel()             #flatten the array\n",
    "b.reshape(3,2)        #where row=3,coln=2"
   ]
  },
  {
   "cell_type": "code",
   "execution_count": 14,
   "id": "e96d317c",
   "metadata": {},
   "outputs": [
    {
     "data": {
      "text/plain": [
       "array([1, 3])"
      ]
     },
     "execution_count": 14,
     "metadata": {},
     "output_type": "execute_result"
    }
   ],
   "source": [
    "#Mutating Arrays - Adding and removing Element\n",
    "np.append(a,add)    #appends two array\n",
    "np.insert(a,1,5)    #insert item in an array\n",
    "np.delete(a,[1])    # delete an item at the given index"
   ]
  },
  {
   "cell_type": "code",
   "execution_count": 15,
   "id": "c5b3a13c",
   "metadata": {},
   "outputs": [
    {
     "name": "stdout",
     "output_type": "stream",
     "text": [
      "[1 2 3]\n",
      "[10 15 20]\n"
     ]
    },
    {
     "data": {
      "text/plain": [
       "array([[ 1, 10],\n",
       "       [ 2, 15],\n",
       "       [ 3, 20]])"
      ]
     },
     "execution_count": 15,
     "metadata": {},
     "output_type": "execute_result"
    }
   ],
   "source": [
    "#Combining Arrays\n",
    "print(a)\n",
    "print(d)\n",
    "np.concatenate((a,d))   #combine/concatenate arrays\n",
    "np.vstack((a,d))        #Stack array vertically\n",
    "np.r_[cs,e]             #stack array vertically(row-wise)\n",
    "np.hstack((cs,e))       #stack array horizontally(coln-wise)\n",
    "np.column_stack((a,d))  #stack array coln wise\n",
    "np.c_[a,d]              #stack array coln wise\n",
    "\n",
    "#Note: Run each code of linee individually"
   ]
  },
  {
   "cell_type": "code",
   "execution_count": 16,
   "id": "c3126563",
   "metadata": {},
   "outputs": [
    {
     "data": {
      "text/plain": [
       "[array([[[1, 2, 3],\n",
       "         [4, 5, 6]]]),\n",
       " array([[[ 7,  8,  9],\n",
       "         [10, 11, 12]]])]"
      ]
     },
     "execution_count": 16,
     "metadata": {},
     "output_type": "execute_result"
    }
   ],
   "source": [
    "#Splitting Array\n",
    "np.hsplit(a,3)        #Split the array horizontally at the 3rd index\n",
    "np.vsplit(c,2)        #Split the array vertically at the 2nd index"
   ]
  },
  {
   "cell_type": "code",
   "execution_count": null,
   "id": "0ef0124c",
   "metadata": {},
   "outputs": [],
   "source": []
  }
 ],
 "metadata": {
  "kernelspec": {
   "display_name": "Python 3",
   "language": "python",
   "name": "python3"
  },
  "language_info": {
   "codemirror_mode": {
    "name": "ipython",
    "version": 3
   },
   "file_extension": ".py",
   "mimetype": "text/x-python",
   "name": "python",
   "nbconvert_exporter": "python",
   "pygments_lexer": "ipython3",
   "version": "3.8.8"
  }
 },
 "nbformat": 4,
 "nbformat_minor": 5
}
